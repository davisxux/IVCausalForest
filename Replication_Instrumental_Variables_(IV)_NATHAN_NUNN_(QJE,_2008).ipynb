{
  "cells": [
    {
      "cell_type": "markdown",
      "metadata": {
        "id": "IdnClOtR0y81"
      },
      "source": [
        "# EMPERICAL EXERCISE 2: [The Role of Slave Trades and Current Economic Performance](https://academic.oup.com/qje/article-abstract/123/1/139/1889789)\n",
        "\n",
        "## NATHAN NUNN\n",
        "\n",
        "## The Quarterly Journal of Economics, Volume 123, Issue 1, February 2008, Pages 139–176.\n",
        "\n",
        "## For accessing the paper data, click [here](https://nathannunn.sites.olt.ubc.ca/files/2022/02/DATA-22The-Long-Term-Effects-of-Africas-Slave-Trades22-slave_trade_qje_replication_dataset.zip) and also click [here](https://nathannunn.sites.olt.ubc.ca/files/2022/02/DATA-2222The-Long-Term-Effects-of-Africas-Slave-Trades2222-Murdock.zip) for the shape file.\n"
      ]
    },
    {
      "cell_type": "markdown",
      "metadata": {
        "id": "t5kxB3v6QGQZ"
      },
      "source": [
        "# Summary of the paper\n",
        "\n",
        "**Prompt:** Summarize the paper with objectives, methodology and instrument, explanation of the instrument, data, and results.\n",
        "\n",
        "**Objective:** Examine the impact of Africa's slave trades on its current economic underdevelopment.\n",
        "\n",
        "**Methodology & Instrument:** Use of shipping records and historical documents to estimate the number of slaves exported from each African country as an instrumental variable.\n",
        "\n",
        "**Reason:** The historical intensity of slave trades is employed to identify the causal effect on present-day economic performance, isolating the impact from other confounding factors.\n",
        "\n",
        "**Data:** Compilation of slave export estimates from various sources, including the Trans-Atlantic Slave Trade Database, and data on slave ethnicities to trace the origins of slaves.\n",
        "\n",
        "**Results:** Finds a robust negative relationship between the number of slaves exported and current economic performance, suggesting a significant adverse effect of the slave trades on economic development.\n",
        "\n"
      ]
    },
    {
      "cell_type": "markdown",
      "metadata": {
        "id": "NyYyObucGSsi"
      },
      "source": [
        "## Importing data into the Google Colab environment\n",
        "\n",
        "**Prompt:** Write code to import data from GitHub as well as read the Stata database including the labels."
      ]
    },
    {
      "cell_type": "code",
      "execution_count": 1,
      "metadata": {
        "colab": {
          "base_uri": "https://localhost:8080/"
        },
        "id": "rX6Vsq3KGJiT",
        "outputId": "426b39de-b79a-44cd-9ad4-d9693ba64031"
      },
      "outputs": [
        {
          "name": "stderr",
          "output_type": "stream",
          "text": [
            "'git' is not recognized as an internal or external command,C:\\Users\\Davis\\AppData\\Roaming\\Python\\Python311\\site-packages\\IPython\\core\\magics\\osm.py:393: UserWarning: using bookmarks requires you to install the `pickleshare` library.\n",
            "  bkms = self.shell.db.get('bookmarks', {})\n",
            "\n",
            "operable program or batch file.\n"
          ]
        },
        {
          "name": "stdout",
          "output_type": "stream",
          "text": [
            "[WinError 2] The system cannot find the file specified: 'Data-Science-for-Economic-and-Social-Issues/'\n",
            "c:\\Users\\Davis\\Downloads\\DATA-22The-Long-Term-Effects-of-Africas-Slave-Trades22-slave_trade_qje_replication_dataset\n",
            "[WinError 3] The system cannot find the path specified: 'IV/NATHAN-NUNN'\n",
            "c:\\Users\\Davis\\Downloads\\DATA-22The-Long-Term-Effects-of-Africas-Slave-Trades22-slave_trade_qje_replication_dataset\n",
            "  isocode       country  ln_maddison_pcgdp2000  ln_export_area  ln_export_pop  \\\n",
            "0     AGO        Angola               6.670766        7.967494      14.399250   \n",
            "1     BDI       Burundi               6.354370        1.140843       4.451658   \n",
            "2     BEN         Benin               7.187657        8.304137      13.308970   \n",
            "3     BFA  Burkina Faso               6.748760        6.413822      11.724286   \n",
            "4     BWA      Botswana               8.377471       -2.302585       3.912023   \n",
            "\n",
            "   colony0  colony1  colony2  colony3  colony4  ...  ln_avg_oil_pop  \\\n",
            "0      0.0      0.0      0.0      1.0      0.0  ...        0.643126   \n",
            "1      0.0      0.0      0.0      0.0      1.0  ...       -9.210340   \n",
            "2      0.0      0.0      1.0      0.0      0.0  ...       -3.531555   \n",
            "3      0.0      0.0      1.0      0.0      0.0  ...       -9.210340   \n",
            "4      0.0      1.0      0.0      0.0      0.0  ...       -9.210340   \n",
            "\n",
            "   ln_avg_all_diamonds_pop  ln_pop_dens_1400  atlantic_distance_minimum  \\\n",
            "0                -1.701396         -0.024917                   5.668760   \n",
            "1                -6.907755          3.036856                  10.626214   \n",
            "2                -6.907755          1.214196                   5.120652   \n",
            "3                -6.907755          0.908565                   4.774938   \n",
            "4                 2.186849         -2.075029                   5.686335   \n",
            "\n",
            "   indian_distance_minimum  saharan_distance_minimum  \\\n",
            "0                 6.980571                  4.925892   \n",
            "1                 2.570375                  3.718742   \n",
            "2                 9.233961                  2.834785   \n",
            "3                 9.299419                  2.763519   \n",
            "4                 5.764575                  5.856533   \n",
            "\n",
            "   red_sea_distance_minimum  ethnic_fractionalization  state_dev  land_area  \n",
            "0                  3.872354                    0.7867      0.635     1.2500  \n",
            "1                  2.215324                    0.2951      0.995     0.0278  \n",
            "2                  3.901736                    0.7872      0.695     0.1130  \n",
            "3                  4.239375                    0.7377      0.338     0.2740  \n",
            "4                  4.299600                    0.4102      0.893     0.6000  \n",
            "\n",
            "[5 rows x 39 columns]\n",
            "{'isocode': 'Country isocode', 'country': 'Country name', 'ln_maddison_pcgdp2000': 'Log per capita GDP - from Maddison (2003)', 'ln_export_area': 'Log total slave exports normalized by land area', 'ln_export_pop': 'Log total slave exports normalized by historic population', 'colony0': 'Colonizer indicator: not colonized', 'colony1': 'Colonizer indicator: Britan', 'colony2': 'Colonizer indicator: France', 'colony3': 'Colonizer indicator: Portugal', 'colony4': 'Colonizer indicator: Belgium', 'colony5': 'Colonizer indicator: Spain', 'colony6': 'Colonizer indicator: UN', 'colony7': 'Colonizer indicator: Italy', 'abs_latitude': 'Absolute latitude', 'longitude': 'Longitude', 'rain_min': 'Min of monthly average rainfall (mm)', 'humid_max': 'Max of monthly afternoon avg humidity (%)', 'low_temp': 'Min of avg monthly low temp (C)', 'ln_coastline_area': 'Log (coastline/land_area)', 'island_dum': 'Indicator variable for small islands', 'islam': 'Percent Islamic', 'legor_fr': 'Legal origin indicator: French', 'legor_uk': 'Legal origin indicator: British', 'region_n': 'Region indicator: North', 'region_s': 'Region indicator: South', 'region_w': 'Region indicator: West', 'region_e': 'Region indicator: East', 'region_c': 'Region indicator: Central', 'ln_avg_gold_pop': 'Log gold production per capita', 'ln_avg_oil_pop': 'Log oil production per capita', 'ln_avg_all_diamonds_pop': 'Log diamond production per capita', 'ln_pop_dens_1400': 'Log population density in 1400', 'atlantic_distance_minimum': 'Minimum Atlantic distance (000s of kms)', 'indian_distance_minimum': 'Minimum Indian distance (000s of kms)', 'saharan_distance_minimum': 'Minimum Saharan distance (000s of kms)', 'red_sea_distance_minimum': 'Minimum Red Sea distance (000s of kms)', 'ethnic_fractionalization': 'Ethnic fractionalization - from Alesina et al (2003)', 'state_dev': 'State development - from Gennaioli & Rainer (2006)', 'land_area': 'Land area in millions of square kms'}\n"
          ]
        }
      ],
      "source": [
        "# How to use Data from GitHub\n",
        "\n",
        "# Cloning the Entire Repository\n",
        "!git clone https://github.com/mjahangiralam/Data-Science-for-Economic-and-Social-Issues.git\n",
        "\n",
        "# Changing Directory to the Cloned Repository\n",
        "%cd Data-Science-for-Economic-and-Social-Issues/\n",
        "\n",
        "# If needed, change to a specific subfolder\n",
        "%cd IV/NATHAN-NUNN\n",
        "\n",
        "# Importing pandas for data handling\n",
        "import pandas as pd\n",
        "\n",
        "# Loading Data from the File\n",
        "df = pd.read_stata('slave_trade_QJE.dta')\n",
        "\n",
        "# Display the first 5 rows of the dataframe\n",
        "print(df.head())\n",
        "\n",
        "# Load the dataset but return a StataReader object instead of a DataFrame\n",
        "with pd.read_stata('slave_trade_QJE.dta', iterator=True) as reader:\n",
        "    # Extract variable labels\n",
        "    variable_labels = reader.variable_labels()\n",
        "\n",
        "# Display variable labels\n",
        "print(variable_labels)\n",
        "\n"
      ]
    },
    {
      "cell_type": "markdown",
      "metadata": {
        "id": "1aYtsopmi3oq"
      },
      "source": [
        "# Visualizations:"
      ]
    },
    {
      "cell_type": "code",
      "execution_count": 15,
      "metadata": {
        "colab": {
          "base_uri": "https://localhost:8080/",
          "height": 564
        },
        "id": "-0JFA59mHsje",
        "outputId": "43706fac-2ac2-425d-8836-43a82e1057bc"
      },
      "outputs": [
        {
          "data": {
            "image/png": "[encoded data removed]",
            "text/plain": [
              "<Figure size 1000x600 with 1 Axes>"
            ]
          },
          "metadata": {},
          "output_type": "display_data"
        },
        {
          "name": "stdout",
          "output_type": "stream",
          "text": [
            "                              OLS Regression Results                             \n",
            "=================================================================================\n",
            "Dep. Variable:     ln_maddison_pcgdp2000   R-squared:                       0.309\n",
            "Model:                               OLS   Adj. R-squared:                  0.295\n",
            "Method:                    Least Squares   F-statistic:                     22.31\n",
            "Date:                   Mon, 04 Mar 2024   Prob (F-statistic):           1.91e-05\n",
            "Time:                           13:53:18   Log-Likelihood:                -53.703\n",
            "No. Observations:                     52   AIC:                             111.4\n",
            "Df Residuals:                         50   BIC:                             115.3\n",
            "Df Model:                              1                                         \n",
            "Covariance Type:               nonrobust                                         \n",
            "==================================================================================\n",
            "                     coef    std err          t      P>|t|      [0.025      0.975]\n",
            "----------------------------------------------------------------------------------\n",
            "const              7.5172      0.126     59.737      0.000       7.264       7.770\n",
            "ln_export_area    -0.1177      0.025     -4.724      0.000      -0.168      -0.068\n",
            "==============================================================================\n",
            "Omnibus:                        0.206   Durbin-Watson:                   2.472\n",
            "Prob(Omnibus):                  0.902   Jarque-Bera (JB):                0.407\n",
            "Skew:                           0.022   Prob(JB):                        0.816\n",
            "Kurtosis:                       2.569   Cond. No.                         6.72\n",
            "==============================================================================\n",
            "\n",
            "Notes:\n",
            "[1] Standard Errors assume that the covariance matrix of the errors is correctly specified.\n"
          ]
        }
      ],
      "source": [
        "import pandas as pd\n",
        "import matplotlib.pyplot as plt\n",
        "import numpy as np\n",
        "import statsmodels.api as sm\n",
        "\n",
        "# Assuming df is your loaded DataFrame\n",
        "# Load your dataset\n",
        "# df = pd.read_stata('slave_trade_QJE.dta')  # Uncomment this line if you haven't loaded your DataFrame\n",
        "\n",
        "# Prepare data for regression\n",
        "X = sm.add_constant(df['ln_export_area'])  # Add a constant term for the intercept\n",
        "y = df['ln_maddison_pcgdp2000']\n",
        "\n",
        "# Fit the regression model\n",
        "model = sm.OLS(y, X).fit()\n",
        "\n",
        "# Get predictions\n",
        "df['predictions'] = model.predict(X)\n",
        "\n",
        "# Scatter plot\n",
        "plt.figure(figsize=(10, 6))\n",
        "plt.scatter(df['ln_export_area'], df['ln_maddison_pcgdp2000'], alpha=0.5)\n",
        "\n",
        "# Annotate each point with its ISO code\n",
        "for i, txt in enumerate(df['isocode']):\n",
        "    plt.annotate(txt, (df['ln_export_area'].iloc[i], df['ln_maddison_pcgdp2000'].iloc[i]))\n",
        "\n",
        "# Plot regression line\n",
        "plt.plot(df['ln_export_area'], df['predictions'], color='red', linewidth=2)\n",
        "\n",
        "# Calculate standard error of the coefficient (for the slope)\n",
        "slope_std_err = model.bse['ln_export_area']\n",
        "\n",
        "# Display regression statistics on the plot\n",
        "plt.text(x=0.95, y=0.95,\n",
        "         s=f'(coef = {model.params[\"ln_export_area\"]:.3f}, s.e. = {slope_std_err:.3f}, N = {len(y)}, R2 = {model.rsquared:.2f})',\n",
        "         ha='right', va='top', transform=plt.gca().transAxes, fontsize=9)\n",
        "\n",
        "\n",
        "# Labels and title\n",
        "plt.title('Relationship between Slave Exports and GDP')\n",
        "plt.xlabel('ln(exports/area)')\n",
        "plt.ylabel('Log Real Per Capita GDP in 2000, ln y')\n",
        "\n",
        "# Save the plot to a PDF file before showing it\n",
        "plt.savefig('regression_plot.pdf', format='pdf', bbox_inches='tight')\n",
        "\n",
        "plt.show()\n",
        "\n",
        "#run regression ln_maddison_pcgdp2000 on ln_export_area\n",
        "X = df['ln_export_area']\n",
        "X = sm.add_constant(X)\n",
        "y = df['ln_maddison_pcgdp2000']\n",
        "model = sm.OLS(y, X).fit()\n",
        "print(model.summary())\n",
        "\n",
        "\n"
      ]
    },
    {
      "cell_type": "markdown",
      "metadata": {
        "id": "_2w6X49osfRa"
      },
      "source": [
        "# Summary Statistics"
      ]
    },
    {
      "cell_type": "code",
      "execution_count": 10,
      "metadata": {
        "colab": {
          "base_uri": "https://localhost:8080/"
        },
        "id": "fqXavs-f6U7c",
        "outputId": "897b27c8-bf34-499c-c88c-d645c68e16aa"
      },
      "outputs": [
        {
          "name": "stdout",
          "output_type": "stream",
          "text": [
            "                                             Variable   Mean  Std. dev.  \\\n",
            "0           Log per capita GDP - from Maddison (2003)   7.13       0.83   \n",
            "1     Log total slave exports normalized by land area   3.26       3.89   \n",
            "2   Log total slave exports normalized by historic...   9.26       3.68   \n",
            "3                                   Absolute latitude  13.55       9.86   \n",
            "4                                           Longitude  16.70      20.21   \n",
            "5                Min of monthly average rainfall (mm)   8.87      16.06   \n",
            "6           Max of monthly afternoon avg humidity (%)  71.67      11.95   \n",
            "7                     Min of avg monthly low temp (C)   8.75       7.49   \n",
            "8                           Log (coastline/land_area)  -0.24       3.24   \n",
            "9                Indicator variable for small islands   0.10       0.30   \n",
            "10                                    Percent Islamic  35.32      39.08   \n",
            "11                     Legal origin indicator: French   0.65       0.48   \n",
            "12                    Legal origin indicator: British   0.35       0.48   \n",
            "13                            Region indicator: North   0.10       0.30   \n",
            "14                            Region indicator: South   0.17       0.38   \n",
            "15                             Region indicator: West   0.31       0.47   \n",
            "16                             Region indicator: East   0.25       0.44   \n",
            "17                          Region indicator: Central   0.17       0.38   \n",
            "18                     Log gold production per capita  -7.48       5.66   \n",
            "19                      Log oil production per capita  -6.71       4.03   \n",
            "20                  Log diamond production per capita  -5.49       2.40   \n",
            "21                     Log population density in 1400   0.11       1.33   \n",
            "22            Minimum Atlantic distance (000s of kms)   7.38       3.28   \n",
            "23              Minimum Indian distance (000s of kms)   6.93       4.24   \n",
            "24             Minimum Saharan distance (000s of kms)   3.51       1.57   \n",
            "25             Minimum Red Sea distance (000s of kms)   3.45       1.47   \n",
            "26  Ethnic fractionalization - from Alesina et al ...   0.63       0.25   \n",
            "27  State development - from Gennaioli & Rainer (2...   0.58       0.33   \n",
            "28                Land area in millions of square kms   0.58       0.65   \n",
            "\n",
            "      Min     Max   N  \n",
            "0    5.38    9.27  52  \n",
            "1   -2.30    8.82  52  \n",
            "2    3.91   14.40  52  \n",
            "3    0.20   36.00  52  \n",
            "4  -24.04   57.79  52  \n",
            "5    0.00   69.00  52  \n",
            "6   35.00   95.00  52  \n",
            "7   -9.00   19.00  52  \n",
            "8   -4.61    6.98  52  \n",
            "9    0.00    1.00  52  \n",
            "10   0.00  100.00  52  \n",
            "11   0.00    1.00  52  \n",
            "12   0.00    1.00  52  \n",
            "13   0.00    1.00  52  \n",
            "14   0.00    1.00  52  \n",
            "15   0.00    1.00  52  \n",
            "16   0.00    1.00  52  \n",
            "17   0.00    1.00  52  \n",
            "18 -13.82    3.08  52  \n",
            "19  -9.21    3.24  52  \n",
            "20  -6.91    2.19  52  \n",
            "21  -2.30    3.04  52  \n",
            "22   3.65   16.39  52  \n",
            "23   0.03   16.78  52  \n",
            "24   0.31    6.64  52  \n",
            "25   0.06    6.47  52  \n",
            "26   0.00    0.93  51  \n",
            "27   0.00    1.00  47  \n",
            "28   0.00    2.51  52  \n",
            "Summary statistics table saved to summary_statistics.csv\n"
          ]
        }
      ],
      "source": [
        "import pandas as pd\n",
        "\n",
        "# Load the dataset\n",
        "df = pd.read_stata('slave_trade_QJE.dta')\n",
        "\n",
        "# Specify the variables for which you want to calculate summary statistics\n",
        "variables = {\n",
        "    'ln_maddison_pcgdp2000': 'Log per capita GDP - from Maddison (2003)',\n",
        "    'ln_export_area': 'Log total slave exports normalized by land area',\n",
        "    'ln_export_pop': 'Log total slave exports normalized by historic population',\n",
        "    'abs_latitude': 'Absolute latitude',\n",
        "    'longitude': 'Longitude',\n",
        "    'rain_min': 'Min of monthly average rainfall (mm)',\n",
        "    'humid_max': 'Max of monthly afternoon avg humidity (%)',\n",
        "    'low_temp': 'Min of avg monthly low temp (C)',\n",
        "    'ln_coastline_area': 'Log (coastline/land_area)',\n",
        "    'island_dum': 'Indicator variable for small islands',\n",
        "    'islam': 'Percent Islamic',\n",
        "    'legor_fr': 'Legal origin indicator: French',\n",
        "    'legor_uk': 'Legal origin indicator: British',\n",
        "    'region_n': 'Region indicator: North',\n",
        "    'region_s': 'Region indicator: South',\n",
        "    'region_w': 'Region indicator: West',\n",
        "    'region_e': 'Region indicator: East',\n",
        "    'region_c': 'Region indicator: Central',\n",
        "    'ln_avg_gold_pop': 'Log gold production per capita',\n",
        "    'ln_avg_oil_pop': 'Log oil production per capita',\n",
        "    'ln_avg_all_diamonds_pop': 'Log diamond production per capita',\n",
        "    'ln_pop_dens_1400': 'Log population density in 1400',\n",
        "    'atlantic_distance_minimum': 'Minimum Atlantic distance (000s of kms)',\n",
        "    'indian_distance_minimum': 'Minimum Indian distance (000s of kms)',\n",
        "    'saharan_distance_minimum': 'Minimum Saharan distance (000s of kms)',\n",
        "    'red_sea_distance_minimum': 'Minimum Red Sea distance (000s of kms)',\n",
        "    'ethnic_fractionalization': 'Ethnic fractionalization - from Alesina et al (2003)',\n",
        "    'state_dev': 'State development - from Gennaioli & Rainer (2006)',\n",
        "    'land_area': 'Land area in millions of square kms'\n",
        "}\n",
        "\n",
        "# Filter the dataset to include only the specified variables before calculating summary statistics\n",
        "filtered_df = df[list(variables.keys())]\n",
        "\n",
        "# Calculate summary statistics for these filtered variables\n",
        "summary_stats = filtered_df.describe()\n",
        "\n",
        "# Transpose for a better layout, matching variables with their stats\n",
        "summary_stats = summary_stats.transpose()\n",
        "\n",
        "# Reset index to make the variable names a column\n",
        "summary_stats = summary_stats.reset_index()\n",
        "\n",
        "# Map the index (variable names) to the more descriptive names\n",
        "summary_stats['Variable'] = summary_stats['index'].map(variables)\n",
        "\n",
        "# Formatting: Round mean, std, min, and max to two digits; convert N to integer\n",
        "summary_stats['mean'] = summary_stats['mean'].round(2)\n",
        "summary_stats['std'] = summary_stats['std'].round(2)\n",
        "summary_stats['min'] = summary_stats['min'].round(2)\n",
        "summary_stats['max'] = summary_stats['max'].round(2)\n",
        "summary_stats['count'] = summary_stats['count'].astype(int)\n",
        "\n",
        "# Drop the original index column and rearrange columns for the final table\n",
        "summary_table = summary_stats[['Variable', 'mean', 'std', 'min', 'max', 'count']]\n",
        "summary_table = summary_table.rename(columns={'count': 'N', 'mean': 'Mean', 'std': 'Std. dev.', 'min': 'Min', 'max': 'Max'})\n",
        "\n",
        "# Print the final summary statistics table\n",
        "print(summary_table)\n",
        "\n",
        "# Specify the path and filename for your CSV file\n",
        "csv_file_path = 'summary_statistics.csv'\n",
        "\n",
        "# Save the final summary statistics table to a CSV file\n",
        "summary_table.to_csv(csv_file_path, index=False)\n",
        "\n",
        "print(f'Summary statistics table saved to {csv_file_path}')\n"
      ]
    },
    {
      "cell_type": "markdown",
      "metadata": {
        "id": "Dt9yzdrz9dCM"
      },
      "source": [
        "# OLS Regression"
      ]
    },
    {
      "cell_type": "code",
      "execution_count": 7,
      "metadata": {
        "colab": {
          "base_uri": "https://localhost:8080/"
        },
        "id": "eqAY8VPfNjK3",
        "outputId": "c4a9cf44-d1da-48fd-8127-833deaca33dc"
      },
      "outputs": [
        {
          "name": "stderr",
          "output_type": "stream",
          "text": [
            "\n",
            "[notice] A new release of pip available: 22.3.1 -> 24.0\n",
            "[notice] To update, run: python.exe -m pip install --upgrade pip\n"
          ]
        },
        {
          "name": "stdout",
          "output_type": "stream",
          "text": [
            "Collecting Jinja2Note: you may need to restart the kernel to use updated packages.\n",
            "\n",
            "  Downloading Jinja2-3.1.3-py3-none-any.whl (133 kB)\n",
            "     -------------------------------------- 133.2/133.2 kB 8.2 MB/s eta 0:00:00\n",
            "Collecting MarkupSafe>=2.0\n",
            "  Downloading MarkupSafe-2.1.5-cp311-cp311-win_amd64.whl (17 kB)\n",
            "Installing collected packages: MarkupSafe, Jinja2\n",
            "Successfully installed Jinja2-3.1.3 MarkupSafe-2.1.5\n",
            "                                        (1)                 (2)  \\\n",
            "Intercept                 7.517***\\n(0.126)   7.254***\\n(0.250)   \n",
            "ln_export_area           -0.118***\\n(0.025)  -0.104***\\n(0.028)   \n",
            "abs_latitude                            NaN     0.018*\\n(0.010)   \n",
            "longitude                               NaN     -0.002\\n(0.005)   \n",
            "rain_min                                NaN                 NaN   \n",
            "humid_max                               NaN                 NaN   \n",
            "low_temp                                NaN                 NaN   \n",
            "ln_coastline_area                       NaN                 NaN   \n",
            "island_dum                              NaN                 NaN   \n",
            "islam                                   NaN                 NaN   \n",
            "legor_fr                                NaN                 NaN   \n",
            "ln_avg_oil_pop                          NaN                 NaN   \n",
            "ln_avg_all_diamonds_pop                 NaN                 NaN   \n",
            "\n",
            "                                        (3)                 (4)  \\\n",
            "Intercept                 6.982***\\n(0.843)   7.195***\\n(0.797)   \n",
            "ln_export_area           -0.101***\\n(0.029)  -0.090***\\n(0.028)   \n",
            "abs_latitude                0.021*\\n(0.012)      0.013\\n(0.016)   \n",
            "longitude                   -0.002\\n(0.006)     -0.001\\n(0.005)   \n",
            "rain_min                     0.002\\n(0.007)     -0.001\\n(0.007)   \n",
            "humid_max                    0.003\\n(0.010)      0.004\\n(0.010)   \n",
            "low_temp                                NaN     -0.020\\n(0.024)   \n",
            "ln_coastline_area                       NaN   0.089***\\n(0.031)   \n",
            "island_dum                              NaN                 NaN   \n",
            "islam                                   NaN                 NaN   \n",
            "legor_fr                                NaN                 NaN   \n",
            "ln_avg_oil_pop                          NaN                 NaN   \n",
            "ln_avg_all_diamonds_pop                 NaN                 NaN   \n",
            "\n",
            "                                        (5)                 (6)  \n",
            "Intercept                 7.450***\\n(0.788)   7.884***\\n(0.737)  \n",
            "ln_export_area           -0.104***\\n(0.032)  -0.102***\\n(0.030)  \n",
            "abs_latitude                 0.027\\n(0.017)      0.018\\n(0.016)  \n",
            "longitude                   -0.002\\n(0.005)     -0.003\\n(0.005)  \n",
            "rain_min                     0.000\\n(0.007)     -0.001\\n(0.006)  \n",
            "humid_max                   -0.000\\n(0.010)      0.003\\n(0.009)  \n",
            "low_temp                    -0.000\\n(0.025)     -0.014\\n(0.025)  \n",
            "ln_coastline_area         0.121***\\n(0.036)   0.094***\\n(0.034)  \n",
            "island_dum                  -0.618\\n(0.470)     -0.117\\n(0.472)  \n",
            "islam                      -0.005*\\n(0.003)    -0.005*\\n(0.003)  \n",
            "legor_fr                                NaN     -0.184\\n(0.216)  \n",
            "ln_avg_oil_pop                          NaN   0.078***\\n(0.023)  \n",
            "ln_avg_all_diamonds_pop                 NaN     -0.028\\n(0.041)  \n"
          ]
        }
      ],
      "source": [
        "%pip install Jinja2\n",
        "\n",
        "import pandas as pd\n",
        "import statsmodels.api as sm\n",
        "import statsmodels.formula.api as smf\n",
        "\n",
        "# Load the dataset\n",
        "# This line is commented out because it's a placeholder for your actual data loading line\n",
        "# df = pd.read_stata('slave_trade_QJE.dta')\n",
        "\n",
        "# Define your regression models as formulas\n",
        "models = {\n",
        "    '(1)': \"ln_maddison_pcgdp2000 ~ ln_export_area\",\n",
        "    '(2)': \"ln_maddison_pcgdp2000 ~ ln_export_area + abs_latitude + longitude\",\n",
        "    '(3)': \"ln_maddison_pcgdp2000 ~ ln_export_area + abs_latitude + longitude + rain_min + humid_max\",\n",
        "    '(4)': \"ln_maddison_pcgdp2000 ~ ln_export_area + abs_latitude + longitude + rain_min + humid_max + low_temp + ln_coastline_area\",\n",
        "    '(5)': \"ln_maddison_pcgdp2000 ~ ln_export_area + abs_latitude + longitude + rain_min + humid_max + low_temp + ln_coastline_area + island_dum + islam\",\n",
        "    '(6)': \"ln_maddison_pcgdp2000 ~ ln_export_area + abs_latitude + longitude + rain_min + humid_max + low_temp + ln_coastline_area + island_dum + islam + legor_fr + ln_avg_oil_pop + ln_avg_all_diamonds_pop\",\n",
        "}\n",
        "\n",
        "# Placeholder for model results\n",
        "results = []\n",
        "\n",
        "# Fit each model and store results\n",
        "for spec, formula in models.items():\n",
        "    model = smf.ols(formula=formula, data=df).fit()\n",
        "    results.append((spec, model))\n",
        "\n",
        "# Initialize an empty DataFrame to hold summary table data\n",
        "summary_data = pd.DataFrame()\n",
        "\n",
        "# Process each model's results\n",
        "for spec, model in results:\n",
        "    # Extract coefficients and standard errors\n",
        "    for var in model.params.index:\n",
        "        coef = model.params[var]\n",
        "        se = model.bse[var]\n",
        "        # Determine significance\n",
        "        pval = model.pvalues[var]\n",
        "        stars = '***' if pval < 0.01 else '**' if pval < 0.05 else '*' if pval < 0.1 else ''\n",
        "        # Format string to include coefficient and standard error\n",
        "        summary_str = f\"{coef:.3f}{stars}\\n({se:.3f})\"\n",
        "        summary_data.at[var, spec] = summary_str\n",
        "\n",
        "# Optionally, print or save the summary table\n",
        "print(summary_data)\n",
        "# summary_data.to_csv('table_iii_summary.csv')  # Save to CSV\n",
        "\n",
        "# Save the summary table to a CSV file\n",
        "summary_data.to_csv('table_iii_summary.csv')\n",
        "\n",
        "# Save the summary table to a LaTeX file\n",
        "summary_data.to_latex('table_iii_summary.tex')\n",
        "\n"
      ]
    },
    {
      "cell_type": "code",
      "execution_count": 14,
      "metadata": {},
      "outputs": [
        {
          "name": "stdout",
          "output_type": "stream",
          "text": [
            "Note: you may need to restart the kernel to use updated packages.Requirement already satisfied: pip in c:\\python311\\lib\\site-packages (22.3.1)\n",
            "Collecting pip\n",
            "  Using cached pip-24.0-py3-none-any.whl (2.1 MB)\n",
            "Installing collected packages: pip\n",
            "  Attempting uninstall: pip\n",
            "    Found existing installation: pip 22.3.1\n",
            "    Uninstalling pip-22.3.1:\n",
            "\n"
          ]
        },
        {
          "name": "stderr",
          "output_type": "stream",
          "text": [
            "ERROR: Could not install packages due to an OSError: [WinError 5] Access is denied: 'c:\\\\python311\\\\lib\\\\site-packages\\\\pip-22.3.1.dist-info\\\\entry_points.txt'\n",
            "Consider using the `--user` option or check the permissions.\n",
            "\n",
            "\n",
            "[notice] A new release of pip available: 22.3.1 -> 24.0\n",
            "[notice] To update, run: python.exe -m pip install --upgrade pip\n"
          ]
        }
      ],
      "source": [
        "%pip install --upgrade pip\n"
      ]
    },
    {
      "cell_type": "markdown",
      "metadata": {
        "id": "Iz_NBOSRL3NO"
      },
      "source": [
        "# Two-Stage Least Squares (2SLS)"
      ]
    },
    {
      "cell_type": "code",
      "execution_count": 8,
      "metadata": {
        "colab": {
          "base_uri": "https://localhost:8080/",
          "height": 253
        },
        "id": "XyA21egXX9w1",
        "outputId": "b8a0e20a-4d15-40ae-be6e-241f0ea7d01f"
      },
      "outputs": [
        {
          "name": "stdout",
          "output_type": "stream",
          "text": [
            "An error occurred: [Errno 2] No such file or directory: 'pwt1001.xlsx'\n"
          ]
        }
      ],
      "source": [
        "import pandas as pd\n",
        "\n",
        "# Define the path to your .xlsx file\n",
        "file_path = 'pwt1001.xlsx'\n",
        "\n",
        "# Specify the 'openpyxl' engine and the sheet name you want to read\n",
        "try:\n",
        "    data_sheet_df = pd.read_excel(file_path, sheet_name='Data', engine='openpyxl')\n",
        "    print(\"Sheet 'Data' loaded successfully.\")\n",
        "    # Display the first few rows of the DataFrame to confirm\n",
        "    display(data_sheet_df.head())\n",
        "except Exception as e:\n",
        "    print(f\"An error occurred: {e}\")\n"
      ]
    }
  ],
  "metadata": {
    "colab": {
      "provenance": []
    },
    "kernelspec": {
      "display_name": "Python 3",
      "name": "python3"
    },
    "language_info": {
      "codemirror_mode": {
        "name": "ipython",
        "version": 3
      },
      "file_extension": ".py",
      "mimetype": "text/x-python",
      "name": "python",
      "nbconvert_exporter": "python",
      "pygments_lexer": "ipython3",
      "version": "3.11.2"
    }
  },
  "nbformat": 4,
  "nbformat_minor": 0
}
